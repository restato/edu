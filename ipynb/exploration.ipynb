{
 "nbformat": 4,
 "nbformat_minor": 2,
 "metadata": {
  "language_info": {
   "name": "python",
   "codemirror_mode": {
    "name": "ipython",
    "version": 3
   },
   "version": "3.7.3-final"
  },
  "orig_nbformat": 2,
  "file_extension": ".py",
  "mimetype": "text/x-python",
  "name": "python",
  "npconvert_exporter": "python",
  "pygments_lexer": "ipython3",
  "version": 3,
  "kernelspec": {
   "name": "python37364bitvenvvenv10d8877c1e4740aa9cab0901ac758ed0",
   "display_name": "Python 3.7.3 64-bit ('venv': venv)"
  }
 },
 "cells": [
  {
   "cell_type": "code",
   "execution_count": 54,
   "metadata": {},
   "outputs": [],
   "source": [
    "import requests\n",
    "\n",
    "url = \"https://openapi.gg.go.kr/Gradclasstdntcnt?SIGUN_NM=성남시&pIndex=1&pSize=10&Type=Json&KEY=2f77f6afda8b4a2f887c14612a8fab22\"\n",
    "headers = {\n",
    "  'Content-Type': 'text/plain'\n",
    "} \n",
    "response = requests.request(\"GET\", url, headers=headers) \n",
    "# print(response.text)"
   ]
  },
  {
   "cell_type": "code",
   "execution_count": 59,
   "metadata": {},
   "outputs": [
    {
     "data": {
      "text/plain": "dict_keys(['Gradclasstdntcnt'])"
     },
     "execution_count": 59,
     "metadata": {},
     "output_type": "execute_result"
    }
   ],
   "source": [
    "import json\n",
    "data = json.loads(response.text)\n",
    "data.keys()"
   ]
  },
  {
   "cell_type": "code",
   "execution_count": 60,
   "metadata": {},
   "outputs": [
    {
     "data": {
      "text/plain": "{'Gradclasstdntcnt': [{'head': [{'list_total_count': 1706},\n    {'RESULT': {'CODE': 'INFO-000', 'MESSAGE': '정상 처리되었습니다.'}},\n    {'api_version': '1.0'}]},\n  {'row': [{'STD_YY': '2015',\n     'SIGUN_CD': '41130',\n     'SIGUN_NM': '성남시',\n     'REGION_EDU_ADMT_NM': '경기도성남교육지원청',\n     'REGION_NM': '경기도 성남시 중원구',\n     'INFO_PBLNTF_SCHOOL_CD': 'S090002275',\n     'SCHOOL_NM': '하원초등학교',\n     'SCHOOL_RK_CD': '2',\n     'SCHOOL_RK_NM': '초등학교',\n     'FOUND_DIV_NM': '공립',\n     'DAN_BTWN_NM': None,\n     'EXCLSN_YN': 'N',\n     'EXCLSN_RESN': None,\n     'GRD1_STDNT_CNT_AVG_VL': 24.8,\n     'GRD2_STDNT_CNT_AVG_VL': 26.5,\n     'GRD3_STDNT_CNT_AVG_VL': 24.8,\n     'GRD4_STDNT_CNT_AVG_VL': 25.5,\n     'GRD5_STDNT_CNT_AVG_VL': 30,\n     'GRD6_STDNT_CNT_AVG_VL': 25,\n     'SPECL_CLAS_CNT': 0,\n     'RD_CLAS_CNT': 0,\n     'CLAS_STDNT_CNT_AVG_VL': 26,\n     'TECHR_CNT': 31,\n     'TECHR_PERPSN_STDNT_AVG_VL': 21.8},\n    {'STD_YY': '2015',\n     'SIGUN_CD': '41130',\n     'SIGUN_NM': '성남시',\n     'REGION_EDU_ADMT_NM': '경기도성남교육지원청',\n     'REGION_NM': '경기도 성남시 분당구',\n     'INFO_PBLNTF_SCHOOL_CD': 'S090002276',\n     'SCHOOL_NM': '하탑초등학교',\n     'SCHOOL_RK_CD': '2',\n     'SCHOOL_RK_NM': '초등학교',\n     'FOUND_DIV_NM': '공립',\n     'DAN_BTWN_NM': None,\n     'EXCLSN_YN': 'N',\n     'EXCLSN_RESN': None,\n     'GRD1_STDNT_CNT_AVG_VL': 27,\n     'GRD2_STDNT_CNT_AVG_VL': 24.5,\n     'GRD3_STDNT_CNT_AVG_VL': 23.3,\n     'GRD4_STDNT_CNT_AVG_VL': 27,\n     'GRD5_STDNT_CNT_AVG_VL': 26.8,\n     'GRD6_STDNT_CNT_AVG_VL': 26,\n     'SPECL_CLAS_CNT': 5,\n     'RD_CLAS_CNT': 0,\n     'CLAS_STDNT_CNT_AVG_VL': 24.2,\n     'TECHR_CNT': 33,\n     'TECHR_PERPSN_STDNT_AVG_VL': 19.8},\n    {'STD_YY': '2015',\n     'SIGUN_CD': '41130',\n     'SIGUN_NM': '성남시',\n     'REGION_EDU_ADMT_NM': '경기도성남교육지원청',\n     'REGION_NM': '경기도 성남시 분당구',\n     'INFO_PBLNTF_SCHOOL_CD': 'S090002277',\n     'SCHOOL_NM': '한솔초등학교',\n     'SCHOOL_RK_CD': '2',\n     'SCHOOL_RK_NM': '초등학교',\n     'FOUND_DIV_NM': '공립',\n     'DAN_BTWN_NM': None,\n     'EXCLSN_YN': 'N',\n     'EXCLSN_RESN': None,\n     'GRD1_STDNT_CNT_AVG_VL': 15,\n     'GRD2_STDNT_CNT_AVG_VL': 23.5,\n     'GRD3_STDNT_CNT_AVG_VL': 23,\n     'GRD4_STDNT_CNT_AVG_VL': 20,\n     'GRD5_STDNT_CNT_AVG_VL': 22.5,\n     'GRD6_STDNT_CNT_AVG_VL': 20,\n     'SPECL_CLAS_CNT': 6,\n     'RD_CLAS_CNT': 0,\n     'CLAS_STDNT_CNT_AVG_VL': 19.3,\n     'TECHR_CNT': 15,\n     'TECHR_PERPSN_STDNT_AVG_VL': 16.7},\n    {'STD_YY': '2015',\n     'SIGUN_CD': '41130',\n     'SIGUN_NM': '성남시',\n     'REGION_EDU_ADMT_NM': '경기도성남교육지원청',\n     'REGION_NM': '경기도 성남시 수정구',\n     'INFO_PBLNTF_SCHOOL_CD': 'S090002278',\n     'SCHOOL_NM': '희망대초등학교',\n     'SCHOOL_RK_CD': '2',\n     'SCHOOL_RK_NM': '초등학교',\n     'FOUND_DIV_NM': '공립',\n     'DAN_BTWN_NM': None,\n     'EXCLSN_YN': 'N',\n     'EXCLSN_RESN': None,\n     'GRD1_STDNT_CNT_AVG_VL': 28.8,\n     'GRD2_STDNT_CNT_AVG_VL': 25.4,\n     'GRD3_STDNT_CNT_AVG_VL': 30.5,\n     'GRD4_STDNT_CNT_AVG_VL': 25,\n     'GRD5_STDNT_CNT_AVG_VL': 25.8,\n     'GRD6_STDNT_CNT_AVG_VL': 26.3,\n     'SPECL_CLAS_CNT': 5,\n     'RD_CLAS_CNT': 0,\n     'CLAS_STDNT_CNT_AVG_VL': 25.3,\n     'TECHR_CNT': 37,\n     'TECHR_PERPSN_STDNT_AVG_VL': 21.2},\n    {'STD_YY': '2015',\n     'SIGUN_CD': '41130',\n     'SIGUN_NM': '성남시',\n     'REGION_EDU_ADMT_NM': '경기도성남교육지원청',\n     'REGION_NM': '경기도 성남시 중원구',\n     'INFO_PBLNTF_SCHOOL_CD': 'S090002210',\n     'SCHOOL_NM': '검단초등학교',\n     'SCHOOL_RK_CD': '2',\n     'SCHOOL_RK_NM': '초등학교',\n     'FOUND_DIV_NM': '공립',\n     'DAN_BTWN_NM': None,\n     'EXCLSN_YN': 'N',\n     'EXCLSN_RESN': None,\n     'GRD1_STDNT_CNT_AVG_VL': 27.5,\n     'GRD2_STDNT_CNT_AVG_VL': 27,\n     'GRD3_STDNT_CNT_AVG_VL': 23.3,\n     'GRD4_STDNT_CNT_AVG_VL': 23.5,\n     'GRD5_STDNT_CNT_AVG_VL': 25.3,\n     'GRD6_STDNT_CNT_AVG_VL': 24.8,\n     'SPECL_CLAS_CNT': 5,\n     'RD_CLAS_CNT': 0,\n     'CLAS_STDNT_CNT_AVG_VL': 23.7,\n     'TECHR_CNT': 33,\n     'TECHR_PERPSN_STDNT_AVG_VL': 19.4},\n    {'STD_YY': '2015',\n     'SIGUN_CD': '41130',\n     'SIGUN_NM': '성남시',\n     'REGION_EDU_ADMT_NM': '경기도성남교육지원청',\n     'REGION_NM': '경기도 성남시 분당구',\n     'INFO_PBLNTF_SCHOOL_CD': 'S090002211',\n     'SCHOOL_NM': '구미초등학교',\n     'SCHOOL_RK_CD': '2',\n     'SCHOOL_RK_NM': '초등학교',\n     'FOUND_DIV_NM': '공립',\n     'DAN_BTWN_NM': None,\n     'EXCLSN_YN': 'N',\n     'EXCLSN_RESN': None,\n     'GRD1_STDNT_CNT_AVG_VL': 25,\n     'GRD2_STDNT_CNT_AVG_VL': 27,\n     'GRD3_STDNT_CNT_AVG_VL': 29.8,\n     'GRD4_STDNT_CNT_AVG_VL': 27.3,\n     'GRD5_STDNT_CNT_AVG_VL': 29.8,\n     'GRD6_STDNT_CNT_AVG_VL': 25.4,\n     'SPECL_CLAS_CNT': 0,\n     'RD_CLAS_CNT': 0,\n     'CLAS_STDNT_CNT_AVG_VL': 27.3,\n     'TECHR_CNT': 32,\n     'TECHR_PERPSN_STDNT_AVG_VL': 21.3},\n    {'STD_YY': '2015',\n     'SIGUN_CD': '41130',\n     'SIGUN_NM': '성남시',\n     'REGION_EDU_ADMT_NM': '경기도성남교육지원청',\n     'REGION_NM': '경기도 성남시 중원구',\n     'INFO_PBLNTF_SCHOOL_CD': 'S090002215',\n     'SCHOOL_NM': '금상초등학교',\n     'SCHOOL_RK_CD': '2',\n     'SCHOOL_RK_NM': '초등학교',\n     'FOUND_DIV_NM': '공립',\n     'DAN_BTWN_NM': None,\n     'EXCLSN_YN': 'N',\n     'EXCLSN_RESN': None,\n     'GRD1_STDNT_CNT_AVG_VL': 26.5,\n     'GRD2_STDNT_CNT_AVG_VL': 29.3,\n     'GRD3_STDNT_CNT_AVG_VL': 27,\n     'GRD4_STDNT_CNT_AVG_VL': 25.8,\n     'GRD5_STDNT_CNT_AVG_VL': 24,\n     'GRD6_STDNT_CNT_AVG_VL': 23.3,\n     'SPECL_CLAS_CNT': 7,\n     'RD_CLAS_CNT': 0,\n     'CLAS_STDNT_CNT_AVG_VL': 25.1,\n     'TECHR_CNT': 26,\n     'TECHR_PERPSN_STDNT_AVG_VL': 22.2},\n    {'STD_YY': '2015',\n     'SIGUN_CD': '41130',\n     'SIGUN_NM': '성남시',\n     'REGION_EDU_ADMT_NM': '경기도성남교육지원청',\n     'REGION_NM': '경기도 성남시 분당구',\n     'INFO_PBLNTF_SCHOOL_CD': 'S090002216',\n     'SCHOOL_NM': '낙생초등학교',\n     'SCHOOL_RK_CD': '2',\n     'SCHOOL_RK_NM': '초등학교',\n     'FOUND_DIV_NM': '공립',\n     'DAN_BTWN_NM': None,\n     'EXCLSN_YN': 'N',\n     'EXCLSN_RESN': None,\n     'GRD1_STDNT_CNT_AVG_VL': 30,\n     'GRD2_STDNT_CNT_AVG_VL': 28.5,\n     'GRD3_STDNT_CNT_AVG_VL': 26.2,\n     'GRD4_STDNT_CNT_AVG_VL': 27.4,\n     'GRD5_STDNT_CNT_AVG_VL': 31,\n     'GRD6_STDNT_CNT_AVG_VL': 27.5,\n     'SPECL_CLAS_CNT': 6,\n     'RD_CLAS_CNT': 0,\n     'CLAS_STDNT_CNT_AVG_VL': 27.7,\n     'TECHR_CNT': 37,\n     'TECHR_PERPSN_STDNT_AVG_VL': 23.9},\n    {'STD_YY': '2015',\n     'SIGUN_CD': '41130',\n     'SIGUN_NM': '성남시',\n     'REGION_EDU_ADMT_NM': '경기도성남교육지원청',\n     'REGION_NM': '경기도 성남시 분당구',\n     'INFO_PBLNTF_SCHOOL_CD': 'S090002217',\n     'SCHOOL_NM': '내정초등학교',\n     'SCHOOL_RK_CD': '2',\n     'SCHOOL_RK_NM': '초등학교',\n     'FOUND_DIV_NM': '공립',\n     'DAN_BTWN_NM': None,\n     'EXCLSN_YN': 'N',\n     'EXCLSN_RESN': None,\n     'GRD1_STDNT_CNT_AVG_VL': 29,\n     'GRD2_STDNT_CNT_AVG_VL': 29.2,\n     'GRD3_STDNT_CNT_AVG_VL': 26.8,\n     'GRD4_STDNT_CNT_AVG_VL': 28.3,\n     'GRD5_STDNT_CNT_AVG_VL': 30,\n     'GRD6_STDNT_CNT_AVG_VL': 28,\n     'SPECL_CLAS_CNT': 0,\n     'RD_CLAS_CNT': 0,\n     'CLAS_STDNT_CNT_AVG_VL': 28.6,\n     'TECHR_CNT': 46,\n     'TECHR_PERPSN_STDNT_AVG_VL': 23},\n    {'STD_YY': '2015',\n     'SIGUN_CD': '41130',\n     'SIGUN_NM': '성남시',\n     'REGION_EDU_ADMT_NM': '경기도성남교육지원청',\n     'REGION_NM': '경기도 성남시 중원구',\n     'INFO_PBLNTF_SCHOOL_CD': 'S090002218',\n     'SCHOOL_NM': '단남초등학교',\n     'SCHOOL_RK_CD': '2',\n     'SCHOOL_RK_NM': '초등학교',\n     'FOUND_DIV_NM': '공립',\n     'DAN_BTWN_NM': None,\n     'EXCLSN_YN': 'N',\n     'EXCLSN_RESN': None,\n     'GRD1_STDNT_CNT_AVG_VL': 28.5,\n     'GRD2_STDNT_CNT_AVG_VL': 28,\n     'GRD3_STDNT_CNT_AVG_VL': 24,\n     'GRD4_STDNT_CNT_AVG_VL': 29,\n     'GRD5_STDNT_CNT_AVG_VL': 24.7,\n     'GRD6_STDNT_CNT_AVG_VL': 24.3,\n     'SPECL_CLAS_CNT': 4,\n     'RD_CLAS_CNT': 0,\n     'CLAS_STDNT_CNT_AVG_VL': 24.8,\n     'TECHR_CNT': 20,\n     'TECHR_PERPSN_STDNT_AVG_VL': 21.1}]}]}"
     },
     "execution_count": 60,
     "metadata": {},
     "output_type": "execute_result"
    }
   ],
   "source": [
    "\n",
    "data.get('')"
   ]
  },
  {
   "cell_type": "code",
   "execution_count": 61,
   "metadata": {},
   "outputs": [],
   "source": [
    "header = data.get('Gradclasstdntcnt')[0]\n",
    "data = data.get('Gradclasstdntcnt')[1].get('row')"
   ]
  },
  {
   "cell_type": "code",
   "execution_count": 62,
   "metadata": {},
   "outputs": [
    {
     "data": {
      "text/plain": "{'head': [{'list_total_count': 1706},\n  {'RESULT': {'CODE': 'INFO-000', 'MESSAGE': '정상 처리되었습니다.'}},\n  {'api_version': '1.0'}]}"
     },
     "execution_count": 62,
     "metadata": {},
     "output_type": "execute_result"
    }
   ],
   "source": [
    "\n",
    "header"
   ]
  },
  {
   "cell_type": "code",
   "execution_count": 57,
   "metadata": {},
   "outputs": [],
   "source": [
    "import pandas as pd\n",
    "df = pd.DataFrame(data)"
   ]
  },
  {
   "cell_type": "code",
   "execution_count": null,
   "metadata": {},
   "outputs": [],
   "source": []
  },
  {
   "cell_type": "code",
   "execution_count": 58,
   "metadata": {},
   "outputs": [
    {
     "data": {
      "text/html": "<div>\n<style scoped>\n    .dataframe tbody tr th:only-of-type {\n        vertical-align: middle;\n    }\n\n    .dataframe tbody tr th {\n        vertical-align: top;\n    }\n\n    .dataframe thead th {\n        text-align: right;\n    }\n</style>\n<table border=\"1\" class=\"dataframe\">\n  <thead>\n    <tr style=\"text-align: right;\">\n      <th></th>\n      <th>STD_YY</th>\n      <th>SIGUN_CD</th>\n      <th>SIGUN_NM</th>\n      <th>REGION_EDU_ADMT_NM</th>\n      <th>REGION_NM</th>\n      <th>INFO_PBLNTF_SCHOOL_CD</th>\n      <th>SCHOOL_NM</th>\n      <th>SCHOOL_RK_CD</th>\n      <th>SCHOOL_RK_NM</th>\n      <th>FOUND_DIV_NM</th>\n      <th>...</th>\n      <th>GRD2_STDNT_CNT_AVG_VL</th>\n      <th>GRD3_STDNT_CNT_AVG_VL</th>\n      <th>GRD4_STDNT_CNT_AVG_VL</th>\n      <th>GRD5_STDNT_CNT_AVG_VL</th>\n      <th>GRD6_STDNT_CNT_AVG_VL</th>\n      <th>SPECL_CLAS_CNT</th>\n      <th>RD_CLAS_CNT</th>\n      <th>CLAS_STDNT_CNT_AVG_VL</th>\n      <th>TECHR_CNT</th>\n      <th>TECHR_PERPSN_STDNT_AVG_VL</th>\n    </tr>\n  </thead>\n  <tbody>\n    <tr>\n      <th>0</th>\n      <td>2015</td>\n      <td>41130</td>\n      <td>성남시</td>\n      <td>경기도성남교육지원청</td>\n      <td>경기도 성남시 중원구</td>\n      <td>S090002275</td>\n      <td>하원초등학교</td>\n      <td>2</td>\n      <td>초등학교</td>\n      <td>공립</td>\n      <td>...</td>\n      <td>26.5</td>\n      <td>24.8</td>\n      <td>25.5</td>\n      <td>30.0</td>\n      <td>25.0</td>\n      <td>0</td>\n      <td>0</td>\n      <td>26.0</td>\n      <td>31</td>\n      <td>21.8</td>\n    </tr>\n    <tr>\n      <th>1</th>\n      <td>2015</td>\n      <td>41130</td>\n      <td>성남시</td>\n      <td>경기도성남교육지원청</td>\n      <td>경기도 성남시 분당구</td>\n      <td>S090002276</td>\n      <td>하탑초등학교</td>\n      <td>2</td>\n      <td>초등학교</td>\n      <td>공립</td>\n      <td>...</td>\n      <td>24.5</td>\n      <td>23.3</td>\n      <td>27.0</td>\n      <td>26.8</td>\n      <td>26.0</td>\n      <td>5</td>\n      <td>0</td>\n      <td>24.2</td>\n      <td>33</td>\n      <td>19.8</td>\n    </tr>\n    <tr>\n      <th>2</th>\n      <td>2015</td>\n      <td>41130</td>\n      <td>성남시</td>\n      <td>경기도성남교육지원청</td>\n      <td>경기도 성남시 분당구</td>\n      <td>S090002277</td>\n      <td>한솔초등학교</td>\n      <td>2</td>\n      <td>초등학교</td>\n      <td>공립</td>\n      <td>...</td>\n      <td>23.5</td>\n      <td>23.0</td>\n      <td>20.0</td>\n      <td>22.5</td>\n      <td>20.0</td>\n      <td>6</td>\n      <td>0</td>\n      <td>19.3</td>\n      <td>15</td>\n      <td>16.7</td>\n    </tr>\n    <tr>\n      <th>3</th>\n      <td>2015</td>\n      <td>41130</td>\n      <td>성남시</td>\n      <td>경기도성남교육지원청</td>\n      <td>경기도 성남시 수정구</td>\n      <td>S090002278</td>\n      <td>희망대초등학교</td>\n      <td>2</td>\n      <td>초등학교</td>\n      <td>공립</td>\n      <td>...</td>\n      <td>25.4</td>\n      <td>30.5</td>\n      <td>25.0</td>\n      <td>25.8</td>\n      <td>26.3</td>\n      <td>5</td>\n      <td>0</td>\n      <td>25.3</td>\n      <td>37</td>\n      <td>21.2</td>\n    </tr>\n    <tr>\n      <th>4</th>\n      <td>2015</td>\n      <td>41130</td>\n      <td>성남시</td>\n      <td>경기도성남교육지원청</td>\n      <td>경기도 성남시 중원구</td>\n      <td>S090002210</td>\n      <td>검단초등학교</td>\n      <td>2</td>\n      <td>초등학교</td>\n      <td>공립</td>\n      <td>...</td>\n      <td>27.0</td>\n      <td>23.3</td>\n      <td>23.5</td>\n      <td>25.3</td>\n      <td>24.8</td>\n      <td>5</td>\n      <td>0</td>\n      <td>23.7</td>\n      <td>33</td>\n      <td>19.4</td>\n    </tr>\n    <tr>\n      <th>5</th>\n      <td>2015</td>\n      <td>41130</td>\n      <td>성남시</td>\n      <td>경기도성남교육지원청</td>\n      <td>경기도 성남시 분당구</td>\n      <td>S090002211</td>\n      <td>구미초등학교</td>\n      <td>2</td>\n      <td>초등학교</td>\n      <td>공립</td>\n      <td>...</td>\n      <td>27.0</td>\n      <td>29.8</td>\n      <td>27.3</td>\n      <td>29.8</td>\n      <td>25.4</td>\n      <td>0</td>\n      <td>0</td>\n      <td>27.3</td>\n      <td>32</td>\n      <td>21.3</td>\n    </tr>\n    <tr>\n      <th>6</th>\n      <td>2015</td>\n      <td>41130</td>\n      <td>성남시</td>\n      <td>경기도성남교육지원청</td>\n      <td>경기도 성남시 중원구</td>\n      <td>S090002215</td>\n      <td>금상초등학교</td>\n      <td>2</td>\n      <td>초등학교</td>\n      <td>공립</td>\n      <td>...</td>\n      <td>29.3</td>\n      <td>27.0</td>\n      <td>25.8</td>\n      <td>24.0</td>\n      <td>23.3</td>\n      <td>7</td>\n      <td>0</td>\n      <td>25.1</td>\n      <td>26</td>\n      <td>22.2</td>\n    </tr>\n    <tr>\n      <th>7</th>\n      <td>2015</td>\n      <td>41130</td>\n      <td>성남시</td>\n      <td>경기도성남교육지원청</td>\n      <td>경기도 성남시 분당구</td>\n      <td>S090002216</td>\n      <td>낙생초등학교</td>\n      <td>2</td>\n      <td>초등학교</td>\n      <td>공립</td>\n      <td>...</td>\n      <td>28.5</td>\n      <td>26.2</td>\n      <td>27.4</td>\n      <td>31.0</td>\n      <td>27.5</td>\n      <td>6</td>\n      <td>0</td>\n      <td>27.7</td>\n      <td>37</td>\n      <td>23.9</td>\n    </tr>\n    <tr>\n      <th>8</th>\n      <td>2015</td>\n      <td>41130</td>\n      <td>성남시</td>\n      <td>경기도성남교육지원청</td>\n      <td>경기도 성남시 분당구</td>\n      <td>S090002217</td>\n      <td>내정초등학교</td>\n      <td>2</td>\n      <td>초등학교</td>\n      <td>공립</td>\n      <td>...</td>\n      <td>29.2</td>\n      <td>26.8</td>\n      <td>28.3</td>\n      <td>30.0</td>\n      <td>28.0</td>\n      <td>0</td>\n      <td>0</td>\n      <td>28.6</td>\n      <td>46</td>\n      <td>23.0</td>\n    </tr>\n    <tr>\n      <th>9</th>\n      <td>2015</td>\n      <td>41130</td>\n      <td>성남시</td>\n      <td>경기도성남교육지원청</td>\n      <td>경기도 성남시 중원구</td>\n      <td>S090002218</td>\n      <td>단남초등학교</td>\n      <td>2</td>\n      <td>초등학교</td>\n      <td>공립</td>\n      <td>...</td>\n      <td>28.0</td>\n      <td>24.0</td>\n      <td>29.0</td>\n      <td>24.7</td>\n      <td>24.3</td>\n      <td>4</td>\n      <td>0</td>\n      <td>24.8</td>\n      <td>20</td>\n      <td>21.1</td>\n    </tr>\n  </tbody>\n</table>\n<p>10 rows × 24 columns</p>\n</div>",
      "text/plain": "  STD_YY SIGUN_CD SIGUN_NM REGION_EDU_ADMT_NM    REGION_NM  \\\n0   2015    41130      성남시         경기도성남교육지원청  경기도 성남시 중원구   \n1   2015    41130      성남시         경기도성남교육지원청  경기도 성남시 분당구   \n2   2015    41130      성남시         경기도성남교육지원청  경기도 성남시 분당구   \n3   2015    41130      성남시         경기도성남교육지원청  경기도 성남시 수정구   \n4   2015    41130      성남시         경기도성남교육지원청  경기도 성남시 중원구   \n5   2015    41130      성남시         경기도성남교육지원청  경기도 성남시 분당구   \n6   2015    41130      성남시         경기도성남교육지원청  경기도 성남시 중원구   \n7   2015    41130      성남시         경기도성남교육지원청  경기도 성남시 분당구   \n8   2015    41130      성남시         경기도성남교육지원청  경기도 성남시 분당구   \n9   2015    41130      성남시         경기도성남교육지원청  경기도 성남시 중원구   \n\n  INFO_PBLNTF_SCHOOL_CD SCHOOL_NM SCHOOL_RK_CD SCHOOL_RK_NM FOUND_DIV_NM  ...  \\\n0            S090002275    하원초등학교            2         초등학교           공립  ...   \n1            S090002276    하탑초등학교            2         초등학교           공립  ...   \n2            S090002277    한솔초등학교            2         초등학교           공립  ...   \n3            S090002278   희망대초등학교            2         초등학교           공립  ...   \n4            S090002210    검단초등학교            2         초등학교           공립  ...   \n5            S090002211    구미초등학교            2         초등학교           공립  ...   \n6            S090002215    금상초등학교            2         초등학교           공립  ...   \n7            S090002216    낙생초등학교            2         초등학교           공립  ...   \n8            S090002217    내정초등학교            2         초등학교           공립  ...   \n9            S090002218    단남초등학교            2         초등학교           공립  ...   \n\n  GRD2_STDNT_CNT_AVG_VL GRD3_STDNT_CNT_AVG_VL GRD4_STDNT_CNT_AVG_VL  \\\n0                  26.5                  24.8                  25.5   \n1                  24.5                  23.3                  27.0   \n2                  23.5                  23.0                  20.0   \n3                  25.4                  30.5                  25.0   \n4                  27.0                  23.3                  23.5   \n5                  27.0                  29.8                  27.3   \n6                  29.3                  27.0                  25.8   \n7                  28.5                  26.2                  27.4   \n8                  29.2                  26.8                  28.3   \n9                  28.0                  24.0                  29.0   \n\n   GRD5_STDNT_CNT_AVG_VL  GRD6_STDNT_CNT_AVG_VL  SPECL_CLAS_CNT  RD_CLAS_CNT  \\\n0                   30.0                   25.0               0            0   \n1                   26.8                   26.0               5            0   \n2                   22.5                   20.0               6            0   \n3                   25.8                   26.3               5            0   \n4                   25.3                   24.8               5            0   \n5                   29.8                   25.4               0            0   \n6                   24.0                   23.3               7            0   \n7                   31.0                   27.5               6            0   \n8                   30.0                   28.0               0            0   \n9                   24.7                   24.3               4            0   \n\n   CLAS_STDNT_CNT_AVG_VL  TECHR_CNT  TECHR_PERPSN_STDNT_AVG_VL  \n0                   26.0         31                       21.8  \n1                   24.2         33                       19.8  \n2                   19.3         15                       16.7  \n3                   25.3         37                       21.2  \n4                   23.7         33                       19.4  \n5                   27.3         32                       21.3  \n6                   25.1         26                       22.2  \n7                   27.7         37                       23.9  \n8                   28.6         46                       23.0  \n9                   24.8         20                       21.1  \n\n[10 rows x 24 columns]"
     },
     "execution_count": 58,
     "metadata": {},
     "output_type": "execute_result"
    }
   ],
   "source": [
    "df"
   ]
  },
  {
   "cell_type": "code",
   "execution_count": 75,
   "metadata": {},
   "outputs": [],
   "source": [
    "df = pd.read_csv('../data_in/학교현황(학급수)(초,중,고,그외).csv', encoding='cp949')"
   ]
  },
  {
   "cell_type": "code",
   "execution_count": null,
   "metadata": {},
   "outputs": [],
   "source": []
  }
 ]
}